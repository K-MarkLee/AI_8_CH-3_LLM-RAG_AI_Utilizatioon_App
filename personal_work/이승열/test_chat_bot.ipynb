{
 "cells": [
  {
   "cell_type": "code",
<<<<<<< HEAD
   "execution_count": 1,
=======
   "execution_count": null,
>>>>>>> origin/main
   "metadata": {},
   "outputs": [],
   "source": [
    "\n",
    "import os\n",
    "import faiss\n",
    "import json\n",
    "import glob\n",
    "import time\n",
    "\n",
    "from langchain_openai import ChatOpenAI\n",
    "from langchain_openai import OpenAIEmbeddings\n",
    "from langchain_community.vectorstores import FAISS\n",
    "from langchain_community.docstore import InMemoryDocstore\n",
    "from langchain.schema import Document\n",
    "from uuid import uuid4\n",
    "from langchain_core.prompts import ChatPromptTemplate\n",
    "from langchain_core.runnables import RunnablePassthrough\n",
    "\n",
    "from collections import deque\n"
   ]
  },
  {
   "cell_type": "code",
<<<<<<< HEAD
   "execution_count": 16,
=======
   "execution_count": null,
>>>>>>> origin/main
   "metadata": {},
   "outputs": [],
   "source": [
    "os.environ[\"OpenAI_API_KEY\"] = os.getenv(\"OPENAI_API_KEY\")\n",
    "\n",
    "model = ChatOpenAI(model =\"gpt-4o\")"
   ]
  },
  {
   "cell_type": "code",
<<<<<<< HEAD
   "execution_count": 17,
=======
   "execution_count": null,
>>>>>>> origin/main
   "metadata": {},
   "outputs": [],
   "source": [
    "# folder_path = \"food_recipe/\"\n",
    "\n",
    "# # 병합된 데이터를 저장할 리스트\n",
    "# merged_data = []\n",
    "\n",
    "# # 폴더 내 모든 JSON 파일 읽기\n",
    "# for file_name in os.listdir(folder_path):\n",
    "#     if file_name.endswith(\".json\"):  # JSON 파일만 처리\n",
    "#         file_path = os.path.join(folder_path, file_name)\n",
    "#         with open(file_path, 'r', encoding='utf-8') as file:\n",
    "#             try:\n",
    "#                 # JSON 데이터 불러오기\n",
    "#                 data = json.load(file)\n",
    "#                 merged_data.append(data)  # 병합 리스트에 추가\n",
    "#                 print(f\"Added data from {file_name}\")\n",
    "#             except json.JSONDecodeError as e:\n",
    "#                 print(f\"Error decoding {file_name}: {e}\")\n",
    "\n",
    "# # 병합된 데이터를 하나의 JSON 파일로 저장\n",
    "# output_path = os.path.join(folder_path, \"final_recipes_data.json\")\n",
    "# with open(output_path, 'w', encoding='utf-8') as output_file:\n",
    "#     json.dump(merged_data, output_file, indent=4, ensure_ascii=False)\n",
    "\n",
    "# print(f\"병합된 JSON 데이터가 {output_path}에 저장되었습니다.\")\n"
   ]
  },
  {
   "cell_type": "code",
<<<<<<< HEAD
   "execution_count": 18,
=======
   "execution_count": null,
>>>>>>> origin/main
   "metadata": {},
   "outputs": [],
   "source": [
    "# with open(\"food_recipe/food_recipes_1-68.json\",'r',encoding='utf-8') as file:\n",
    "#     data = json.load(file)"
   ]
  },
  {
   "cell_type": "code",
<<<<<<< HEAD
   "execution_count": 19,
=======
   "execution_count": null,
>>>>>>> origin/main
   "metadata": {},
   "outputs": [],
   "source": [
    "# document_recipe = [\n",
    "#     Document(page_content=str(recipe), metadata={\"요리명\": recipe[\"요리명\"],\"요리재료\" : recipe[\"요리재료\"], \"기본정보\" : recipe[\"기본정보\"], \"조리순서\" : recipe[\"조리순서\"]})\n",
    "#     for recipe in data\n",
    "# ]"
   ]
  },
  {
   "cell_type": "code",
<<<<<<< HEAD
   "execution_count": 20,
=======
   "execution_count": null,
>>>>>>> origin/main
   "metadata": {},
   "outputs": [],
   "source": [
    "# document_recipe"
   ]
  },
  {
   "cell_type": "code",
<<<<<<< HEAD
   "execution_count": 21,
=======
   "execution_count": null,
>>>>>>> origin/main
   "metadata": {},
   "outputs": [],
   "source": [
    "embeddings = OpenAIEmbeddings(model = \"text-embedding-3-small\")"
   ]
  },
  {
   "cell_type": "code",
<<<<<<< HEAD
   "execution_count": 22,
=======
   "execution_count": null,
>>>>>>> origin/main
   "metadata": {},
   "outputs": [],
   "source": [
    "# index  = faiss.IndexFlatL2(len(embeddings.embed_query(\"레시피\")))\n",
    "\n",
    "# recipe_store = FAISS(\n",
    "#     embedding_function=embeddings,\n",
    "#     index=index,\n",
    "#     docstore=InMemoryDocstore(),\n",
    "#     index_to_docstore_id={}\n",
    "# )"
   ]
  },
  {
   "cell_type": "code",
<<<<<<< HEAD
   "execution_count": 23,
=======
   "execution_count": null,
>>>>>>> origin/main
   "metadata": {},
   "outputs": [],
   "source": [
    "# uuids = [str(uuid4()) for _ in range(len(document_recipe))]\n",
    "\n",
    "# recipe_store.add_documents(documents=document_recipe, ids = uuids)"
   ]
  },
  {
   "cell_type": "code",
<<<<<<< HEAD
   "execution_count": 25,
=======
   "execution_count": null,
>>>>>>> origin/main
   "metadata": {},
   "outputs": [],
   "source": [
    "# recipe_store.save_local(\"./food_db\")\n",
    "recipes = FAISS.load_local(\"./food_db\" ,embeddings, allow_dangerous_deserialization=True)"
   ]
  },
  {
   "cell_type": "code",
<<<<<<< HEAD
   "execution_count": 26,
=======
   "execution_count": null,
>>>>>>> origin/main
   "metadata": {},
   "outputs": [],
   "source": [
    "retriever = recipes.as_retriever(search_type=\"similarity\", search_kwargs={\"k\": 5})"
   ]
  },
  {
   "cell_type": "code",
<<<<<<< HEAD
   "execution_count": 31,
   "metadata": {},
   "outputs": [],
   "source": [
    "prompt = ChatPromptTemplate.from_template(\"\"\"\n",
    "너는 사용자가 물어보는 음식의 레시피를 자세하게 알려주는 요리사야.\n",
    "친절하고 전문적인 말투로 응답해.\n",
    "데이터에 포함되어 있는 레시피만을 제공하도록 해.\n",
    "해당 음식이 데이터에 포함되어 있지 않다면 양해를 구하고 관련 데이터를 제공할 수 없음을 명시해줘.\n",
    "대신 해당 음식과 비슷한 재료가 들어가있는 음식 리스트를 최대 5개 소개해줘.\n",
    "기본적으로 해당 레시피의 원래 인분 수로 제공하고, 사용자가 원하는 인분 수에 따라 재료의 양을 계산해서 수정해줘.\n",
    "\n",
    "'''\n",
    "user : <음식명3> 을 만드는 법을 알려줘\n",
    "ai : <음식명3> 을 만드는 방법은 아래와 같습니다:\n",
    "- 요리의 이름\n",
    "- 재료\n",
    "    - 재료 1 (재료양)\n",
    "    - 재료 2 (재료양)\n",
    "    - 재료 3 (재료양)\n",
    "- 조리 시간\n",
    "- 인분 수\n",
    "- 요리 방법\n",
    "    - 첫번째, ~~\n",
    "    - 두번째, ~~\n",
    "    - 세번째, ~~\n",
    "'''\n",
    "\n",
    "'''\n",
    "user: 김치우동을 만드는법을 알려줘\n",
    "ai: 죄송합니다. 김치우동에 관련한 정보는 제가 가져올 수 없습니다. \n",
    "대신 김치우동과 비슷한 재료가 들어가는 음식들을 소개해드리겠습니다:\n",
    "- 요리명1\n",
    "  - 필요 재료\n",
    "  - 조리 시간: 15분\n",
    "- 요리명2\n",
    "  - 필요 재료\n",
    "  - 조리 시간: 10분\n",
    "~~\n",
    "\n",
    "'''\n",
    "'''\n",
    "user : 1인분의 레시피를 알려줘\n",
    "ai : <음식명>의 레시피는 ~ 인분 기준입니다. \n",
    "<음식명> 을 1인분으로 만드는 레시피는 다음과 같습니다:\n",
    "- 재료 : 1인분으로 수정된 재료 나열\n",
    "- 요리 방법 : 요리 방법 나열\n",
    "'''\n",
    "\n",
    "다음과 같은 데이터를 학습해:\\n{data}\"\n",
    "그리고 질문에 답해:\\n{question}\n",
    "\n",
    "\"\"\")"
=======
   "execution_count": null,
   "metadata": {},
   "outputs": [],
   "source": [
    "# prompt = ChatPromptTemplate.from_messages([\n",
    "#     (\"system\", \"너는 주어진 데이터로만 답변을 할 수 있어.\"),\n",
    "#     (\"system\", \"너는 요리의 전문가야.\"),\n",
    "    \n",
    "    \n",
    "#     (\"system\", \"질문에 답변할 때는 항상 데이터를 세밀히 학습하고 정확한 답변을 생성해야 해.\"),\n",
    "#     (\"system\", \"만약 데이터 안에 유저의 질문이 없다면, 양해를 구하고 관련 데이터를 제공할 수 없음을 알리도록 해.\"),\n",
    "#     (\"system\", \"질문에 계산이 필요한 경우, 데이터를 기반으로 정확하게 계산하여 결과를 제공해야 합니다.\"),\n",
    "#     (\"system\", \"질문에 대한 답변을 생성 하기전에 검증을 마친 후에 생성해줘.\"),\n",
    "#     (\"system\", \"부족한 부분이 있다고 생각하면, 다른 데이터를 참조해줘\"),\n",
    "\n",
    "    \n",
    "#     (\"system\", \"다음은 답변 형식의 예시야: \\n\"\n",
    "#                \"user: 미역국을 만들고 싶어.\\n\"\n",
    "#                \"ai: 미역국의 재료는 ~입니다.\\n\"\n",
    "#                \"ai: 미역국을 만드는 순서는 다음과 같습니다:\\n\"\n",
    "#                \"ai: 첫 번째 ~~~, 두 번째 ~~~입니다.\\n\"),\n",
    "    \n",
    "    \n",
    "#     (\"system\", \"또 다른 예시를 들어줄게:\\n\"\n",
    "#                \"user: 내가 만들려고 하는 미역국의 칼로리는 얼마야?\\n\"\n",
    "#                \"ai: 미역국의 칼로리는 1인분당 ~kcal입니다. 이 레시피는 ~인분 기준이므로, 총 칼로리는 ~kcal입니다.\\n\"),\n",
    "    \n",
    "    \n",
    "#     (\"system\", \"추가 예시:\\n\"\n",
    "#                \"user: 5인분의 레시피로 수정해줘.\\n\"\n",
    "#                \"ai: 현재 미역국 레시피는 ~인분 기준입니다. 5인분으로 수정된 재료는 다음과 같습니다:\\n\"\n",
    "#                \"ai: ~~~.\\n\"\n",
    "#                \"이때도 순서를 전부 알려줘\"),\n",
    "    \n",
    "    \n",
    "#     (\"system\", \"추가 예시:\\n\"\n",
    "#                \"user: 된장찌개 끓이는법을 알려줘.\\n\"\n",
    "#                \"ai: 된장찌개는 재료에 따라 나뉩니다. 현재 ~ 한 된장찌개 레시피가 있습니다 어떤 된장찌개 레시피를원하십니까?:\\n\"\n",
    "#                ),\n",
    "    \n",
    "    \n",
    "#     (\"user\", \"다음과 같은 데이터를 학습해:\\n{data}\"),\n",
    "#     (\"user\", \"그리고 질문에 답해:\\n{question}\")\n",
    "# ])"
   ]
  },
  {
   "cell_type": "code",
   "execution_count": null,
   "metadata": {},
   "outputs": [],
   "source": [
    "# # 위치 설정\n",
    "path = \"Prompts/\"\n",
    "\n",
    "\n",
    "system_files = [\"Require_decide.txt\",\"Food_recipe.txt\",\"Food_recommend.txt\"]\n",
    "\n",
    "\n",
    "system_message = []\n",
    "for txt in system_files :\n",
    "    with open(os.path.join(path, txt),\"r\", encoding=\"UTF-8\") as f:\n",
    "       \n",
    "        content = f.read().replace(\"\\\\n\", \"\\n\")\n",
    "        system_message.append((\"system\", content))\n",
    "\n",
    "\n",
    "system_message.append((\"user\", \"context : {context}\\\\n\\\\nQuestion: {question}\"))\n",
    "\n",
    "\n",
    "prompt = ChatPromptTemplate.from_messages(system_message)\n",
    "prompt \n"
>>>>>>> origin/main
   ]
  },
  {
   "cell_type": "code",
   "execution_count": 32,
   "metadata": {},
   "outputs": [],
   "source": [
    "contextual_prompt = prompt"
   ]
  },
  {
   "cell_type": "code",
   "execution_count": 33,
   "metadata": {},
   "outputs": [],
   "source": [
    "class DebugPassThrough(RunnablePassthrough):\n",
    "    \n",
    "    def invoke(self, *args, **kwargs):\n",
    "        output = super().invoke(*args,**kwargs)\n",
    "        return output\n",
    "    \n",
    "    \n",
    "class ContextToText(RunnablePassthrough):\n",
    "    def invoke(self, inputs, config = None, **kwargs):\n",
    "        return {\"data\": inputs[\"data\"], \"question\": inputs[\"question\"]}\n",
    "    \n",
    "    \n",
    "rag_chain_divide = {\n",
    "    \"data\" : retriever,\n",
    "    \"question\" : DebugPassThrough()\n",
    "\n",
    "\n",
    "# contextual_prompt에 기능을 분리시키는 프롬프트 입력 (~라면 a를 반환, ~라면 b를 반환)\n",
    "} | DebugPassThrough() | ContextToText()| contextual_prompt | model "
   ]
  },
  {
   "cell_type": "code",
   "execution_count": 34,
   "metadata": {},
<<<<<<< HEAD
   "outputs": [
    {
     "name": "stdout",
     "output_type": "stream",
     "text": [
      "-----------------------------\n",
      "Question :  김치 요리를 알려줘\n",
      "김치 요리를 만드는 방법은 아래와 같습니다:\n",
      "\n",
      "- 요리의 이름: 김치만두\n",
      "- 재료:\n",
      "  - 배추김치: 2/3컵 (400g)\n",
      "  - 찹쌀가루: 1컵 (100g)\n",
      "  - 밀가루: 1컵 (100g)\n",
      "  - 굴: 250g\n",
      "  - 메밀가루: 1컵 (100g)\n",
      "  - 들기름: 1큰술 (15ml)\n",
      "  - 물: 1/2컵 (100ml)\n",
      "- 조리 시간: 60분\n",
      "- 인분 수: 4인분 기준\n",
      "- 요리 방법:\n",
      "  - 첫번째, 찹쌀가루와 메밀가루를 섞은 후 김이 오른 찜기에 젖은 면보를 깔고 찹쌀가루와 메밀가루를 넣고 찐다.\n",
      "  - 두번째, 볼에 찐 가루들과 밀가루를 넣고 물을 넣어가며 치대어 반죽하고, 반죽을 떼어내 둥글게 빚어 밀대로 밀어 지름 8cm 크기로 만든다.\n",
      "  - 세번째, 굴을 소금물에 넣고 살살 흔들어 씻은 후 체에 밭쳐 헹구고 물기를 뺀다.\n",
      "  - 네번째, 배추김치는 속을 털어내고 다진 후 볼에 배추김치, 굴, 들기름을 넣고 골고루 섞는다.\n",
      "  - 다섯번째, 만두피에 소를 올리고 가장자리에 물을 묻힌 후 반으로 접어 잘 눌러 붙인다.\n",
      "  - 여섯번째, 만두를 김이 오른 찜기에 올려 찐다.\n",
      "\n",
      "이 외에도 다른 김치 요리들이 있습니다. 원하시면 다른 요리의 레시피도 제공해드리겠습니다!\n",
      "-----------------------------\n",
      "Question :  다른 김치 요리를 알려줘\n",
      "김치 요리를 찾고 계시군요! 아래에 다양한 김치를 활용한 요리를 소개해드리겠습니다:\n",
      "\n",
      "1. 김치만두\n",
      "   - 필요 재료: 배추김치, 찹쌀가루, 밀가루, 굴, 메밀가루, 들기름, 물 등\n",
      "   - 조리 시간: 60분\n",
      "\n",
      "2. 김치볶음밥\n",
      "   - 필요 재료: 김치, 밥, 쇠고기, 양파, 당근, 올리브유, 달걀 등\n",
      "   - 조리 시간: 30분\n",
      "\n",
      "3. 묵은지김치찜\n",
      "   - 필요 재료: 묵은지, 돼지고기, 김치국물, 멸치육수, 청주, 대파, 마늘 등\n",
      "   - 조리 시간: 60분\n",
      "\n",
      "4. 김치참치볶음\n",
      "   - 필요 재료: 배추김치, 참다랑어(참치 통조림), 대파, 식용유, 참기름 등\n",
      "   - 조리 시간: 20분\n",
      "\n",
      "5. 김치볶음\n",
      "   - 필요 재료: 배추김치(익은 것), 식용유, 대파, 참기름, 마늘, 설탕 등\n",
      "   - 조리 시간: 15분\n",
      "\n",
      "이 요리들을 통해 다양한 김치의 맛을 즐겨보세요. 도움이 더 필요하시면 언제든지 말씀해 주세요!\n",
      "-----------------------------\n",
      "Question :  1인분 김치 만두 만드는 법을 알려줘\n",
      "김치만두의 레시피는 4인분 기준입니다. 김치만두를 1인분으로 만드는 레시피는 다음과 같습니다:\n",
      "\n",
      "- 재료:\n",
      "  - 배추김치 2와: 1/6컵 (100g)\n",
      "  - 찹쌀가루: 1/4컵 (25g)\n",
      "  - 밀가루: 1/4컵 (25g)\n",
      "  - 굴: 62.5g\n",
      "  - 메밀가루: 1/4컵 (25g)\n",
      "  - 들기름: 1/4큰술 (3.75ml)\n",
      "  - 물: 1/8컵 (25ml)\n",
      "\n",
      "- 요리 방법:\n",
      "  1. 찹쌀가루와 메밀가루를 섞어 김이 오른 찜기에 젖은 면보를 깔고 찹쌀가루와 메밀가루를 넣고 찐다.\n",
      "  2. 볼에 찹쌀가루, 메밀가루 혼합물과 밀가루를 넣고 물을 넣어가며 치대어 반죽합니다. 반죽을 떼어내 둥글게 빚어 밀대로 밀어 지름 8cm 크기로 만듭니다.\n",
      "  3. 굴은 소금물에 넣고 살살 흔들어 씻은 후 체에 밭쳐 헹구고 물기를 뺍니다.\n",
      "  4. 배추김치는 속을 털어내고 다집니다. 볼에 배추김치, 굴, 들기름을 넣고 골고루 섞습니다.\n",
      "  5. 만두피에 배추김치와 굴 혼합물을 올리고 만두피 가장자리에 물을 묻힌 후, 만두피를 반으로 접어 잘 눌러 붙입니다.\n",
      "  6. 만두를 김이 오른 찜기에 올려 찝니다. \n",
      "\n",
      "이렇게 하면 1인분의 김치만두를 만들 수 있습니다. 즐거운 요리 시간이 되시길 바랍니다!\n",
      "-----------------------------\n",
      "Question :  김치볶음밥을 어떻게 만들어?\n",
      "김치볶음밥을 만드는 방법은 아래와 같습니다:\n",
      "\n",
      "- 요리의 이름: 김치볶음밥\n",
      "- 재료:\n",
      "  - 김치 1과 (2/3컵, 250g)\n",
      "  - 밥 2공기 (400g)\n",
      "  - 쇠고기 80g\n",
      "  - 양파 1/8개 (25g)\n",
      "  - 당근 1/8개 (25g)\n",
      "  - 올리브유 2큰술 (30ml)\n",
      "  - 달걀 2개 (100g)\n",
      "  - 참기름 1큰술 (15ml)\n",
      "  - 후추 약간\n",
      "  - 소금 약간\n",
      "  - 설탕 약간\n",
      "  - 대체재료: 쇠고기 대신 햄이나 참치를 사용할 수 있습니다.\n",
      "- 조리 시간: 30분\n",
      "- 인분 수: 2인분 기준\n",
      "- 요리 방법:\n",
      "  1. 밥은 고슬고슬하게 짓습니다.\n",
      "  2. 쇠고기는 키친타월 위에 올려 핏물을 제거한 후 굵게 다집니다.\n",
      "  3. 김치는 1cm 두께로 썹니다.\n",
      "  4. 양파, 당근, 애호박은 굵게 다집니다. (다양한 채소를 넣어도 좋습니다.)\n",
      "  5. 달군 팬에 식용유를 두르고 쇠고기를 넣고 볶다가 소금, 후춧가루를 약간씩 뿌려 간합니다.\n",
      "  6. 양파, 당근, 애호박을 넣고 더 볶다가 소금, 후춧가루를 약간씩 뿌려 간합니다.\n",
      "  7. 김치와 설탕을 넣고 볶습니다.\n",
      "  8. 밥을 넣어 잘 섞어가며 볶습니다.\n",
      "  9. 다른 팬에 달걀 프라이를 만들어 김치볶음밥 위에 올립니다.\n",
      "\n",
      "맛있게 드세요!\n",
      "-----------------------------\n",
      "Question :  묵은지김치찜 레시피\n",
      "묵은지김치찜을 만드는 방법은 아래와 같습니다:\n",
      "\n",
      "- 요리의 이름: 묵은지김치찜\n",
      "- 재료:\n",
      "  - 묵은지 (500g)\n",
      "  - 돼지고기(돼지 목살) (200g)\n",
      "  - 김치국물 (1/4컵, 50ml)\n",
      "  - 멸치육수 (2/3컵, 350ml)\n",
      "  - 청주 (2큰술, 30ml)\n",
      "  - 대파 (20cm, 40g)\n",
      "  - 마늘(다진 마늘) (1/2큰술, 15g)\n",
      "  - 참기름 (1큰술, 15ml)\n",
      "- 조리 시간: 60분\n",
      "- 인분 수: 4인분 기준\n",
      "- 요리 방법:\n",
      "  1. 냄비에 묵은지를 깔고 돼지고기를 올립니다. 대파는 송송 썰어 준비합니다.\n",
      "  2. 1번에 멸치육수, 청주, 마늘을 넣고 끓입니다.\n",
      "  3. 국물이 반으로 줄면 대파를 넣고 약한 불에서 뭉근히 끓입니다. 불을 끄고 참기름을 넣고 골고루 섞어 마무리합니다.\n",
      "\n",
      "맛있게 만들어 드세요!\n",
      "-----------------------------\n",
      "Question :  김치볶음 레시피\n",
      "김치볶음을 만드는 방법은 아래와 같습니다:\n",
      "\n",
      "- 요리의 이름: 김치볶음\n",
      "- 재료\n",
      "  - 배추김치(익은 것) (2컵, 300g)\n",
      "  - 식용유 (1큰술, 15ml)\n",
      "  - 대파 (5cm, 10g)\n",
      "  - 참기름 (1작은술, 5ml)\n",
      "  - 마늘 (1작은술, 3g)\n",
      "  - 설탕 (1/2작은술, 2g)\n",
      "- 조리 시간: 15분\n",
      "- 인분 수: 2인분 기준\n",
      "- 요리 방법\n",
      "  1. 배추김치는 한입 크기로 썰어 물기를 꼭 짭니다. 대파는 어슷 썹니다.\n",
      "  2. 배추김치에 다진 마늘, 설탕을 넣고 조물조물 무칩니다. 달군 팬에 식용유를 두르고 배추김치와 대파를 넣어 중간 불에서 충분히 볶습니다. (설탕은 신맛을 줄여주므로 기호에 따라 가감합니다.)\n",
      "  3. 불을 끄고 참기름을 넣고 골고루 섞습니다.\n",
      "\n",
      "맛있게 요리하시길 바랍니다!\n",
      "-----------------------------\n"
     ]
    }
   ],
=======
   "outputs": [],
>>>>>>> origin/main
   "source": [
    "# 대화 히스토리를 저장할 공간\n",
    "chat_history = deque(maxlen = 10)\n",
    "log = []\n",
    "timestamp = time.time()\n",
    "output_file = f\"log/output_log_{timestamp}.json\"\n",
    "\n",
    "\n",
    "while True:\n",
    "    print(\"-----------------------------\")\n",
    "    \n",
    "    \n",
    "    query = input(\"질문을 입력해 주세요 (break 입력시 종료됩니다) : \")\n",
    "    \n",
    "    \n",
    "    if query.lower() == \"break\":\n",
    "        # 결과를 JSON 파일로 저장\n",
    "        with open(output_file, \"w\", encoding=\"utf-8\") as f:\n",
    "            json.dump(log, f, ensure_ascii=False, indent=4)\n",
    "        break\n",
    "    \n",
    "    # 히스토리에 사용자 입력 추가\n",
    "    chat_history.append({\"role\": \"user\", \"content\" : query})\n",
    "    \n",
    "    \n",
    "    #모델의 입력 구성\n",
    "    model_input = \"\\n\".join([f\"{msg['role']}: {msg['content']}\" for msg in chat_history])\n",
    "\n",
    "\n",
    "    #응답 생성\n",
    "    response = rag_chain_divide.invoke(model_input)\n",
    "    \n",
    "    \n",
    "    # 히스토리에 모델의 응답 추가\n",
    "    chat_history.append({\"role\": \"assistant\", \"content\": response.content})\n",
    "    \n",
    "    \n",
    "    #저장\n",
    "    record = {\n",
    "        \"질문\" : query,\n",
    "        \"답변\" : response.content,\n",
    "        \"기록\" : list(chat_history)\n",
    "    }\n",
    "    log.append(record)\n",
    "    \n",
    "\n",
    "    print(\"Question : \", query)\n",
    "    \n",
    "    print(response.content)"
   ]
  },
  {
   "cell_type": "markdown",
   "metadata": {},
   "source": [
    "## 문제점\n",
    " \n",
    " * 이전 대화 내용을 기억 못 함\n",
    "\n",
    "* 나만의 문제일수도 있는데 대화를 좀 진행하고 나서 질문을 입력했는데도 출력 안 나오고 다시 질문 입력하라 했음\n",
    "  * 다시 입력하면 한번에 각각의 질문과 출력이 함께 나옴\n",
    "\n",
    "-----\n",
    "## 해결 된 것\n",
    "-  없는 음식 데이터를 들고 오지 않음\n",
    "-  "
   ]
  },
  {
   "cell_type": "code",
   "execution_count": null,
   "metadata": {},
   "outputs": [],
   "source": []
  }
 ],
 "metadata": {
  "kernelspec": {
   "display_name": "LLM_RAG",
   "language": "python",
   "name": "python3"
  },
  "language_info": {
   "codemirror_mode": {
    "name": "ipython",
    "version": 3
   },
   "file_extension": ".py",
   "mimetype": "text/x-python",
   "name": "python",
   "nbconvert_exporter": "python",
   "pygments_lexer": "ipython3",
   "version": "3.12.7"
  }
 },
 "nbformat": 4,
 "nbformat_minor": 2
}
