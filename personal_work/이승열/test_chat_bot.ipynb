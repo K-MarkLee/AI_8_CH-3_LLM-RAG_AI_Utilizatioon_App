{
 "cells": [
  {
   "cell_type": "code",
   "execution_count": null,
   "metadata": {},
   "outputs": [],
   "source": [
    "import os\n",
    "import faiss\n",
    "import json\n",
    "import glob\n",
    "\n",
    "from langchain_openai import ChatOpenAI\n",
    "from langchain_openai import OpenAIEmbeddings\n",
    "from langchain_community.vectorstores import FAISS\n",
    "from langchain_community.docstore import InMemoryDocstore\n",
    "from langchain.schema import Document\n",
    "from uuid import uuid4\n",
    "from langchain_core.prompts import ChatPromptTemplate\n",
    "from langchain_core.runnables import RunnablePassthrough\n"
   ]
  },
  {
   "cell_type": "code",
   "execution_count": null,
   "metadata": {},
   "outputs": [],
   "source": [
    "os.environ[\"OpenAI_API_KEY\"] = os.getenv(\"GPT_API\")\n",
    "\n",
    "model = ChatOpenAI(model =\"gpt-4o\")"
   ]
  },
  {
   "cell_type": "code",
   "execution_count": null,
   "metadata": {},
   "outputs": [],
   "source": [
    "path = \"food_recipe/\"\n",
    "\n",
    "merge_recipes = []\n",
    "\n",
    "for path in glob.glob(os.path.join(path,\"*json\")):\n",
    "    with open(path, 'r', encoding=\"utf-8\") as file:\n",
    "        data = json.load(file)\n",
    "        merge_recipes.append(data)"
   ]
  },
  {
   "cell_type": "code",
   "execution_count": null,
   "metadata": {},
   "outputs": [],
   "source": [
    "document_recipe = [\n",
    "    Document(page_content=str(recipe), metadata={\"요리명\": recipe[\"요리명\"],\"요리재료\" : recipe[\"요리재료\"], \"기본정보\" : recipe[\"기본정보\"], \"조리순서\" : recipe[\"조리순서\"]})\n",
    "    for recipe in data\n",
    "]"
   ]
  },
  {
   "cell_type": "code",
   "execution_count": null,
   "metadata": {},
   "outputs": [],
   "source": [
    "embeddings = OpenAIEmbeddings(model = \"text-embedding-3-small\")"
   ]
  },
  {
   "cell_type": "code",
   "execution_count": null,
   "metadata": {},
   "outputs": [],
   "source": [
    "index  = faiss.IndexFlatL2(len(embeddings.embed_query(\"레시피\")))\n",
    "\n",
    "recipe_store = FAISS(\n",
    "    embedding_function=embeddings,\n",
    "    index=index,\n",
    "    docstore=InMemoryDocstore(),\n",
    "    index_to_docstore_id={}\n",
    ")"
   ]
  },
  {
   "cell_type": "code",
   "execution_count": null,
   "metadata": {},
   "outputs": [],
   "source": [
    "uuids = [str(uuid4()) for _ in range(len(document_recipe))]\n",
    "\n",
    "recipe_store.add_documents(documents=document_recipe, ids = uuids)"
   ]
  },
  {
   "cell_type": "code",
   "execution_count": null,
   "metadata": {},
   "outputs": [],
   "source": [
    "recipe_store.save_local(\"./food_db\")\n",
    "recipes = FAISS.load_local(\"./food_db.\" ,embeddings, allow_dangerous_deserialization=True)"
   ]
  },
  {
   "cell_type": "code",
   "execution_count": null,
   "metadata": {},
   "outputs": [],
   "source": [
    "retriever = recipes.as_retriever(search_type=\"similarity\", search_kwargs={\"k\": 1})"
   ]
  },
  {
   "cell_type": "code",
   "execution_count": null,
   "metadata": {},
   "outputs": [],
   "source": [
    "retriever.get_relevant_documents(\"미역국 레시피\")"
   ]
  },
  {
   "cell_type": "code",
   "execution_count": null,
   "metadata": {},
   "outputs": [],
   "source": [
    "prompt = ChatPromptTemplate.from_messages([\n",
    "    (\"system\", \"너는 주어진 데이터로만 답변을 할 수 있어.\"),\n",
    "    (\"system\", \"너는 요리의 전문가야.\"),\n",
    "    \n",
    "    (\"system\", \"질문에 답변할 때는 항상 데이터를 세밀히 학습하고 정확한 답변을 생성해야 해.\"),\n",
    "    (\"system\", \"만약 데이터 안에 유저의 질문이 없다면, 양해를 구하고 관련 데이터를 제공할 수 없음을 알리도록 해.\"),\n",
    "    (\"system\", \"질문에 계산이 필요한 경우, 데이터를 기반으로 정확하게 계산하여 결과를 제공해야 합니다.\"),\n",
    "    (\"system\", \"질문에 대한 답변을 생성 하기전에 검증을 마친 후에 생성해줘.\"),\n",
    "    (\"system\", \"부족한 부분이 있다고 생각하면, 다른 데이터를 참조해줘\"),\n",
    "\n",
    "    \n",
    "    (\"system\", \"다음은 답변 형식의 예시야: \\n\"\n",
    "               \"user: 미역국을 만들고 싶어.\\n\"\n",
    "               \"ai: 미역국의 재료는 ~입니다.\\n\"\n",
    "               \"ai: 미역국을 만드는 순서는 다음과 같습니다:\\n\"\n",
    "               \"ai: 첫 번째 ~~~, 두 번째 ~~~입니다.\\n\"),\n",
    "    \n",
    "    (\"system\", \"또 다른 예시를 들어줄게:\\n\"\n",
    "               \"user: 내가 만들려고 하는 미역국의 칼로리는 얼마야?\\n\"\n",
    "               \"ai: 미역국의 칼로리는 1인분당 ~kcal입니다. 이 레시피는 ~인분 기준이므로, 총 칼로리는 ~kcal입니다.\\n\"),\n",
    "    \n",
    "    (\"system\", \"추가 예시:\\n\"\n",
    "               \"user: 5인분의 레시피로 수정해줘.\\n\"\n",
    "               \"ai: 현재 미역국 레시피는 ~인분 기준입니다. 5인분으로 수정된 재료는 다음과 같습니다:\\n\"\n",
    "               \"ai: ~~~.\\n\"\n",
    "               \"이때도 순서를 전부 알려줘\"),\n",
    "    \n",
    "    (\"user\", \"다음과 같은 데이터를 학습해:\\n{data}\"),\n",
    "    (\"user\", \"그리고 질문에 답해:\\n{question}\")\n",
    "])"
   ]
  },
  {
   "cell_type": "code",
   "execution_count": null,
   "metadata": {},
   "outputs": [],
   "source": [
    "contextual_prompt = prompt"
   ]
  },
  {
   "cell_type": "code",
   "execution_count": null,
   "metadata": {},
   "outputs": [],
   "source": [
    "class DebugPassThrough(RunnablePassthrough):\n",
    "    \n",
    "    def invoke(self, *args, **kwargs):\n",
    "        output = super().invoke(*args,**kwargs)\n",
    "        return output\n",
    "    \n",
    "class ContextToText(RunnablePassthrough):\n",
    "    def invoke(self, inputs, config = None, **kwargs):\n",
    "        return {\"data\": inputs[\"data\"], \"question\": inputs[\"question\"]}\n",
    "    \n",
    "rag_chain_debug = {\n",
    "    \"data\" : retriever,\n",
    "    \"question\" : DebugPassThrough()\n",
    "    \n",
    "} | DebugPassThrough() | ContextToText()| contextual_prompt | model"
   ]
  },
  {
   "cell_type": "code",
   "execution_count": null,
   "metadata": {},
   "outputs": [],
   "source": [
    "while True:\n",
    "    print(\"-----------------------------\")\n",
    "    \n",
    "    query = input(\"질문을 입력해 주세요 (break 입력시 종료됩니다) : \")\n",
    "    \n",
    "    if query.lower() == \"break\":\n",
    "        break\n",
    "    \n",
    "    response = rag_chain_debug.invoke(query)\n",
    "    \n",
    "    print(\"Question : \", query)\n",
    "    print(response.content)"
   ]
  }
 ],
 "metadata": {
  "kernelspec": {
   "display_name": "Mark",
   "language": "python",
   "name": "python3"
  },
  "language_info": {
   "codemirror_mode": {
    "name": "ipython",
    "version": 3
   },
   "file_extension": ".py",
   "mimetype": "text/x-python",
   "name": "python",
   "nbconvert_exporter": "python",
   "pygments_lexer": "ipython3",
   "version": "3.9.20"
  }
 },
 "nbformat": 4,
 "nbformat_minor": 2
}
